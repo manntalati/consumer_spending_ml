{
 "cells": [
  {
   "cell_type": "code",
   "execution_count": 3,
   "metadata": {},
   "outputs": [
    {
     "name": "stdout",
     "output_type": "stream",
     "text": [
      "Collecting pandas\n",
      "  Downloading pandas-2.2.3-cp311-cp311-win_amd64.whl.metadata (19 kB)\n",
      "Collecting numpy>=1.23.2 (from pandas)\n",
      "  Downloading numpy-2.2.4-cp311-cp311-win_amd64.whl.metadata (60 kB)\n",
      "     ---------------------------------------- 0.0/60.8 kB ? eta -:--:--\n",
      "     -------------------------- ------------- 41.0/60.8 kB 2.0 MB/s eta 0:00:01\n",
      "     ---------------------------------------- 60.8/60.8 kB 1.1 MB/s eta 0:00:00\n",
      "Requirement already satisfied: python-dateutil>=2.8.2 in c:\\users\\mannat2\\appdata\\local\\packages\\pythonsoftwarefoundation.python.3.11_qbz5n2kfra8p0\\localcache\\local-packages\\python311\\site-packages (from pandas) (2.9.0.post0)\n",
      "Collecting pytz>=2020.1 (from pandas)\n",
      "  Downloading pytz-2025.2-py2.py3-none-any.whl.metadata (22 kB)\n",
      "Collecting tzdata>=2022.7 (from pandas)\n",
      "  Downloading tzdata-2025.2-py2.py3-none-any.whl.metadata (1.4 kB)\n",
      "Requirement already satisfied: six>=1.5 in c:\\users\\mannat2\\appdata\\local\\packages\\pythonsoftwarefoundation.python.3.11_qbz5n2kfra8p0\\localcache\\local-packages\\python311\\site-packages (from python-dateutil>=2.8.2->pandas) (1.17.0)\n",
      "Downloading pandas-2.2.3-cp311-cp311-win_amd64.whl (11.6 MB)\n",
      "   ---------------------------------------- 0.0/11.6 MB ? eta -:--:--\n",
      "   - -------------------------------------- 0.4/11.6 MB 11.6 MB/s eta 0:00:01\n",
      "   --- ------------------------------------ 1.1/11.6 MB 13.4 MB/s eta 0:00:01\n",
      "   ------- -------------------------------- 2.3/11.6 MB 18.0 MB/s eta 0:00:01\n",
      "   -------------- ------------------------- 4.3/11.6 MB 24.9 MB/s eta 0:00:01\n",
      "   ------------------------- -------------- 7.5/11.6 MB 34.0 MB/s eta 0:00:01\n",
      "   -------------------------------------- - 11.3/11.6 MB 54.4 MB/s eta 0:00:01\n",
      "   ---------------------------------------- 11.6/11.6 MB 50.4 MB/s eta 0:00:00\n",
      "Downloading numpy-2.2.4-cp311-cp311-win_amd64.whl (12.9 MB)\n",
      "   ---------------------------------------- 0.0/12.9 MB ? eta -:--:--\n",
      "   --------------- ------------------------ 4.9/12.9 MB 106.2 MB/s eta 0:00:01\n",
      "   ----------------------------- ---------- 9.6/12.9 MB 103.4 MB/s eta 0:00:01\n",
      "   ---------------------------------------  12.9/12.9 MB 108.8 MB/s eta 0:00:01\n",
      "   ---------------------------------------- 12.9/12.9 MB 81.8 MB/s eta 0:00:00\n",
      "Downloading pytz-2025.2-py2.py3-none-any.whl (509 kB)\n",
      "   ---------------------------------------- 0.0/509.2 kB ? eta -:--:--\n",
      "   --------------------------------------- 509.2/509.2 kB 31.2 MB/s eta 0:00:00\n",
      "Downloading tzdata-2025.2-py2.py3-none-any.whl (347 kB)\n",
      "   ---------------------------------------- 0.0/347.8 kB ? eta -:--:--\n",
      "   --------------------------------------- 347.8/347.8 kB 10.9 MB/s eta 0:00:00\n",
      "Installing collected packages: pytz, tzdata, numpy, pandas\n",
      "Successfully installed numpy-2.2.4 pandas-2.2.3 pytz-2025.2 tzdata-2025.2\n",
      "Note: you may need to restart the kernel to use updated packages.\n"
     ]
    },
    {
     "name": "stderr",
     "output_type": "stream",
     "text": [
      "\n",
      "[notice] A new release of pip is available: 24.0 -> 25.0.1\n",
      "[notice] To update, run: C:\\Users\\mannat2\\AppData\\Local\\Microsoft\\WindowsApps\\PythonSoftwareFoundation.Python.3.11_qbz5n2kfra8p0\\python.exe -m pip install --upgrade pip\n"
     ]
    }
   ],
   "source": [
    "%pip install pandas"
   ]
  },
  {
   "cell_type": "markdown",
   "metadata": {},
   "source": [
    "# Goal: Build a classification model to segment the customers based on the account data.\n",
    "\n",
    "classify the Accounts eligible for Credit Line Increase without Risk, Accounts eligible for Credit Line\n",
    "Increase but has risk of potential defaults or fraud, No Credit Line Increase required and Non-Performing\n",
    "accounts that pose a high risk."
   ]
  },
  {
   "cell_type": "markdown",
   "metadata": {},
   "source": [
    "# Features to look into\n",
    "rams_batch_cur['cu_bhv_scr'] - internal old behavior score which helps credit card issuers with a scoring system, higher is better\n",
    "\n",
    "statement_fact['return_check_cnt_total'] - total number of returned checks for the account"
   ]
  },
  {
   "cell_type": "code",
   "execution_count": null,
   "metadata": {},
   "outputs": [],
   "source": [
    "import pandas as pd"
   ]
  },
  {
   "cell_type": "code",
   "execution_count": 24,
   "metadata": {},
   "outputs": [],
   "source": [
    "account_dim = pd.read_csv(\"C:/Users/mannat2/datathon/consumer_spending_ml/data/tmp/datathon/data/account_dim_20250325.csv\")\n",
    "fraud_claim_case = pd.read_csv(\"C:/Users/mannat2/datathon/consumer_spending_ml/data/tmp/datathon/data/fraud_claim_case_20250325.csv\")\n",
    "fraud_claim_tran = pd.read_csv(\"C:/Users/mannat2/datathon/consumer_spending_ml/data/tmp/datathon/data/fraud_claim_tran_20250325.csv\")\n",
    "rams_batch_cur = pd.read_csv(\"C:/Users/mannat2/Documents/GitHub/consumer_spending_ml/data/tmp/datathon/data/rams_batch_cur_20250325.csv\")\n",
    "statement_fact = pd.read_csv(\"C:/Users/mannat2/Documents/GitHub/consumer_spending_ml/data/tmp/datathon/data/statement_fact_20250325.csv\")\n",
    "syf_id = pd.read_csv(\"C:/Users/mannat2/Documents/GitHub/consumer_spending_ml/data/tmp/datathon/data/syf_id_20250325.csv\")\n",
    "transfaction_fact = pd.read_csv(\"C:/Users/mannat2/Documents/GitHub/consumer_spending_ml/data/tmp/datathon/data/transaction_fact_20250325.csv\")\n",
    "wrld_stor_tran_fact = pd.read_csv(\"C:/Users/mannat2/Documents/GitHub/consumer_spending_ml/data/tmp/datathon/data/wrld_stor_tran_fact_20250325.csv\")"
   ]
  },
  {
   "cell_type": "code",
   "execution_count": 30,
   "metadata": {},
   "outputs": [],
   "source": [
    "master_df = [account_dim.columns] + [fraud_claim_case.columns] + [fraud_claim_tran.columns] + [rams_batch_cur.columns] + [statement_fact.columns] + [syf_id.columns] + [transfaction_fact.columns] + [wrld_stor_tran_fact.columns]"
   ]
  },
  {
   "cell_type": "code",
   "execution_count": 29,
   "metadata": {},
   "outputs": [
    {
     "data": {
      "text/plain": [
       "[Index(['current_account_nbr', 'client_id', 'open_date', 'card_activation_date',\n",
       "        'card_activation_flag', 'ebill_ind', 'date_in_collection',\n",
       "        'overlimit_type_flag', 'payment_hist_1_12_mths',\n",
       "        'payment_hist_13_24_mths', 'employee_code',\n",
       "        'external_status_reason_code', 'special_finance_charge_ind', 'pscc_ind',\n",
       "        'ext_status_reason_cd_desc', 'account_card_type'],\n",
       "       dtype='object'),\n",
       " Index(['current_account_nbr', 'case_id', 'reported_date', 'open_date',\n",
       "        'close_date', 'reopen_date', 'gross_fraud_amt', 'net_fraud_amt'],\n",
       "       dtype='object'),\n",
       " Index(['current_account_nbr', 'case_id', 'transaction_dt', 'transaction_am'], dtype='object'),\n",
       " Index(['cu_bhv_scr', 'ca_cash_bal_pct_crd_line', 'ca_cash_bal_pct_cash_line',\n",
       "        'cu_nbr_days_dlq', 'cu_nbr_of_plastics', 'ca_avg_utilz_lst_6_mnths',\n",
       "        'cu_cash_line_am', 'cu_crd_bureau_scr', 'cu_crd_line',\n",
       "        'cu_next_crd_line_rev_date', 'cu_cur_balance', 'cu_cur_nbr_due',\n",
       "        'ca_current_utilz', 'cu_account_nbr', 'cu_line_incr_excl_flag',\n",
       "        'ca_max_dlq_lst_6_mnths', 'ca_mnths_since_active',\n",
       "        'ca_mnths_since_cl_chng', 'ca_mob', 'ca_nsf_count_lst_12_months',\n",
       "        'cu_otb', 'cu_rnd_nbr', 'rb_new_bhv_scr', 'rb_crd_gr_new_crd_gr',\n",
       "        'cu_processing_date', 'mo_tot_sales_array_1', 'mo_tot_sales_array_2',\n",
       "        'mo_tot_sales_array_3', 'mo_tot_sales_array_4', 'mo_tot_sales_array_5',\n",
       "        'mo_tot_sales_array_6', 'ca_avg_utilz_lst_3_mnths'],\n",
       "       dtype='object'),\n",
       " Index(['current_account_nbr', 'billing_cycle_date', 'payment_hist_1_12_mths',\n",
       "        'return_check_cnt_2yr', 'return_check_cnt_last_mth',\n",
       "        'return_check_cnt_py', 'return_check_cnt_total', 'return_check_cnt_ytd',\n",
       "        'prev_balance'],\n",
       "       dtype='object'),\n",
       " Index(['ds_id', 'account_nbr_pty', 'confidence_level', 'open_date',\n",
       "        'closed_date'],\n",
       "       dtype='object'),\n",
       " Index(['current_account_nbr', 'transaction_type', 'transaction_code',\n",
       "        'transaction_date', 'transaction_amt', 'payment_type',\n",
       "        'transaction_return_cnt', 'transaction_sale_cnt', 'product_amt',\n",
       "        'product_qty', 'invoice_nbr', 'first_purchase_ind', 'adj_orgn_tran_dt',\n",
       "        'curr_markup_fee', 'fcr_amount', 'fcr_flag', 'fcr_rate_of_exchange',\n",
       "        'frgn_curr_code', 'frgn_tran_amt', 'us_equiv_amt', 'posting_date'],\n",
       "       dtype='object'),\n",
       " Index(['current_account_nbr', 'transaction_type', 'transaction_code',\n",
       "        'transaction_date', 'transaction_amt', 'payment_type',\n",
       "        'transaction_return_cnt', 'transaction_sale_cnt', 'product_amt',\n",
       "        'product_qty', 'invoice_nbr', 'first_purchase_ind', 'adj_orgn_tran_dt',\n",
       "        'curr_markup_fee', 'fcr_amount', 'fcr_flag', 'fcr_rate_of_exchange',\n",
       "        'frgn_curr_code', 'frgn_tran_amt', 'us_equiv_amt', 'posting_date'],\n",
       "       dtype='object')]"
      ]
     },
     "execution_count": 29,
     "metadata": {},
     "output_type": "execute_result"
    }
   ],
   "source": [
    "master_df"
   ]
  },
  {
   "cell_type": "code",
   "execution_count": 18,
   "metadata": {},
   "outputs": [
    {
     "data": {
      "text/plain": [
       "array(['ZZZZZZIAZZZZ', 'IQIIIQIA', 'IIIQIQIIIIA', ..., 'ZZZA%%%-IQQQ',\n",
       "       'I21IIQIIIQII', 'Z0ZZZZIIAIQQ'], shape=(5570,), dtype=object)"
      ]
     },
     "execution_count": 18,
     "metadata": {},
     "output_type": "execute_result"
    }
   ],
   "source": [
    "account_dim['payment_hist_1_12_mths'].unique()"
   ]
  },
  {
   "cell_type": "code",
   "execution_count": 13,
   "metadata": {},
   "outputs": [
    {
     "data": {
      "text/plain": [
       "array([0, 1, 2, 3, 4, 5, 7])"
      ]
     },
     "execution_count": 13,
     "metadata": {},
     "output_type": "execute_result"
    }
   ],
   "source": [
    "rams_batch_cur['ca_nsf_count_lst_12_months'].unique()"
   ]
  },
  {
   "cell_type": "code",
   "execution_count": 5,
   "metadata": {},
   "outputs": [
    {
     "data": {
      "text/html": [
       "<div>\n",
       "<style scoped>\n",
       "    .dataframe tbody tr th:only-of-type {\n",
       "        vertical-align: middle;\n",
       "    }\n",
       "\n",
       "    .dataframe tbody tr th {\n",
       "        vertical-align: top;\n",
       "    }\n",
       "\n",
       "    .dataframe thead th {\n",
       "        text-align: right;\n",
       "    }\n",
       "</style>\n",
       "<table border=\"1\" class=\"dataframe\">\n",
       "  <thead>\n",
       "    <tr style=\"text-align: right;\">\n",
       "      <th></th>\n",
       "      <th>current_account_nbr</th>\n",
       "      <th>case_id</th>\n",
       "      <th>reported_date</th>\n",
       "      <th>open_date</th>\n",
       "      <th>close_date</th>\n",
       "      <th>reopen_date</th>\n",
       "      <th>gross_fraud_amt</th>\n",
       "      <th>net_fraud_amt</th>\n",
       "    </tr>\n",
       "  </thead>\n",
       "  <tbody>\n",
       "    <tr>\n",
       "      <th>54</th>\n",
       "      <td>KQQdmrooVFs1Devc</td>\n",
       "      <td>3202508301390</td>\n",
       "      <td>2025-03-23</td>\n",
       "      <td>2025-03-24</td>\n",
       "      <td>NaN</td>\n",
       "      <td>NaN</td>\n",
       "      <td>373.56</td>\n",
       "      <td>373.56</td>\n",
       "    </tr>\n",
       "  </tbody>\n",
       "</table>\n",
       "</div>"
      ],
      "text/plain": [
       "   current_account_nbr        case_id reported_date   open_date close_date  \\\n",
       "54    KQQdmrooVFs1Devc  3202508301390    2025-03-23  2025-03-24        NaN   \n",
       "\n",
       "   reopen_date  gross_fraud_amt  net_fraud_amt  \n",
       "54         NaN           373.56         373.56  "
      ]
     },
     "execution_count": 5,
     "metadata": {},
     "output_type": "execute_result"
    }
   ],
   "source": [
    "fraud_claim_case[fraud_claim_case['case_id'] == 3202508301390]"
   ]
  },
  {
   "cell_type": "code",
   "execution_count": 6,
   "metadata": {},
   "outputs": [
    {
     "data": {
      "text/html": [
       "<div>\n",
       "<style scoped>\n",
       "    .dataframe tbody tr th:only-of-type {\n",
       "        vertical-align: middle;\n",
       "    }\n",
       "\n",
       "    .dataframe tbody tr th {\n",
       "        vertical-align: top;\n",
       "    }\n",
       "\n",
       "    .dataframe thead th {\n",
       "        text-align: right;\n",
       "    }\n",
       "</style>\n",
       "<table border=\"1\" class=\"dataframe\">\n",
       "  <thead>\n",
       "    <tr style=\"text-align: right;\">\n",
       "      <th></th>\n",
       "      <th>current_account_nbr</th>\n",
       "      <th>case_id</th>\n",
       "      <th>transaction_dt</th>\n",
       "      <th>transaction_am</th>\n",
       "    </tr>\n",
       "  </thead>\n",
       "  <tbody>\n",
       "    <tr>\n",
       "      <th>0</th>\n",
       "      <td>KQQdmrooVFs1Devc</td>\n",
       "      <td>3202508301390</td>\n",
       "      <td>2025-03-12 20:00:00</td>\n",
       "      <td>5.29</td>\n",
       "    </tr>\n",
       "    <tr>\n",
       "      <th>26</th>\n",
       "      <td>KQQdmrooVFs1Devc</td>\n",
       "      <td>3202508301390</td>\n",
       "      <td>2025-03-12 20:00:00</td>\n",
       "      <td>20.00</td>\n",
       "    </tr>\n",
       "    <tr>\n",
       "      <th>130</th>\n",
       "      <td>KQQdmrooVFs1Devc</td>\n",
       "      <td>3202508301390</td>\n",
       "      <td>2025-03-12 20:00:00</td>\n",
       "      <td>329.98</td>\n",
       "    </tr>\n",
       "    <tr>\n",
       "      <th>200</th>\n",
       "      <td>KQQdmrooVFs1Devc</td>\n",
       "      <td>3202508301390</td>\n",
       "      <td>2025-03-12 20:00:00</td>\n",
       "      <td>18.29</td>\n",
       "    </tr>\n",
       "  </tbody>\n",
       "</table>\n",
       "</div>"
      ],
      "text/plain": [
       "    current_account_nbr        case_id       transaction_dt  transaction_am\n",
       "0      KQQdmrooVFs1Devc  3202508301390  2025-03-12 20:00:00            5.29\n",
       "26     KQQdmrooVFs1Devc  3202508301390  2025-03-12 20:00:00           20.00\n",
       "130    KQQdmrooVFs1Devc  3202508301390  2025-03-12 20:00:00          329.98\n",
       "200    KQQdmrooVFs1Devc  3202508301390  2025-03-12 20:00:00           18.29"
      ]
     },
     "execution_count": 6,
     "metadata": {},
     "output_type": "execute_result"
    }
   ],
   "source": [
    "fraud_claim_tran[fraud_claim_tran['case_id'] == 3202508301390]"
   ]
  },
  {
   "cell_type": "code",
   "execution_count": null,
   "metadata": {},
   "outputs": [],
   "source": []
  }
 ],
 "metadata": {
  "kernelspec": {
   "display_name": "Python 3",
   "language": "python",
   "name": "python3"
  },
  "language_info": {
   "codemirror_mode": {
    "name": "ipython",
    "version": 3
   },
   "file_extension": ".py",
   "mimetype": "text/x-python",
   "name": "python",
   "nbconvert_exporter": "python",
   "pygments_lexer": "ipython3",
   "version": "3.11.9"
  }
 },
 "nbformat": 4,
 "nbformat_minor": 2
}
